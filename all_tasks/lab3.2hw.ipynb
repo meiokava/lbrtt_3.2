{
 "cells": [
  {
   "cell_type": "markdown",
   "metadata": {},
   "source": [
    "# Лабораторная работа 3.2. Домашнее задание"
   ]
  },
  {
   "cell_type": "markdown",
   "metadata": {},
   "source": [
    "### Задание №1"
   ]
  },
  {
   "cell_type": "markdown",
   "metadata": {},
   "source": [
    "Создайте два массива: в первом должны быть четные числа от 2 до 12 включительно, а в другом числа 7, 11, 15, 18, 23, 29."
   ]
  },
  {
   "cell_type": "markdown",
   "metadata": {},
   "source": [
    "$1.$ Сложите массивы и возведите элементы получившегося массива в квадрат:"
   ]
  },
  {
   "cell_type": "code",
   "execution_count": 4,
   "metadata": {
    "jupyter": {
     "outputs_hidden": true
    },
    "scrolled": true
   },
   "outputs": [
    {
     "name": "stdout",
     "output_type": "stream",
     "text": [
      "[  81  225  441  676 1089 1681]\n"
     ]
    }
   ],
   "source": [
    "import numpy as np\n",
    "\n",
    "arr1 = np.arange(2, 13, 2)\n",
    "arr2 = np.array([7, 11, 15, 18, 23, 29])\n",
    "\n",
    "print((arr1 + arr2) ** 2)"
   ]
  },
  {
   "cell_type": "markdown",
   "metadata": {},
   "source": [
    "$2.$ Выведите все элементы из первого массива, индексы которых соответствуют индексам тех элементов второго массива, которые больше 12 и дают остаток 3 при делении на 5."
   ]
  },
  {
   "cell_type": "code",
   "execution_count": 6,
   "metadata": {
    "jupyter": {
     "outputs_hidden": true
    }
   },
   "outputs": [
    {
     "name": "stdout",
     "output_type": "stream",
     "text": [
      "[ 8 10]\n"
     ]
    }
   ],
   "source": [
    "print(arr1[(arr2 > 12) & (arr2 % 5 == 3)])"
   ]
  },
  {
   "cell_type": "markdown",
   "metadata": {},
   "source": [
    "*3.* Проверьте условие \"Элементы первого массива делятся на 4, элементы второго массива меньше 14\". (Подсказка: в результате должен получиться массив с True и False)"
   ]
  },
  {
   "cell_type": "code",
   "execution_count": 7,
   "metadata": {},
   "outputs": [
    {
     "name": "stdout",
     "output_type": "stream",
     "text": [
      "First condition:  [False  True False  True False  True]\n",
      "Second condition:  [ True  True False False False False]\n"
     ]
    }
   ],
   "source": [
    "print(\"First condition: \", arr1 % 4 == 0)\n",
    "print(\"Second condition: \", arr2 < 14)"
   ]
  },
  {
   "cell_type": "markdown",
   "metadata": {},
   "source": [
    "### Задание №2"
   ]
  },
  {
   "cell_type": "markdown",
   "metadata": {},
   "source": [
    "* Найдите интересный для вас датасет. Например, можно выбрать датасет тут. http://data.un.org/Explorer.aspx (выбираете датасет, жмете на view data, потом download, выбирайте csv формат)\n",
    "* Рассчитайте подходящие описательные статистики для признаков объектов в выбранном датасете\n",
    "* Проанализируйте и прокомментируйте содержательно получившиеся результаты\n",
    "* Все комментарии оформляйте строго в ячейках формата markdown\n",
    "    "
   ]
  },
  {
   "cell_type": "code",
   "execution_count": 12,
   "metadata": {
    "jupyter": {
     "outputs_hidden": true
    }
   },
   "outputs": [],
   "source": [
    "import csv\n",
    "import numpy as np\n",
    "\n",
    "with open('Customers.csv', 'r', newline='') as csvf:\n",
    "    data = csv.reader(csvf, delimiter=',')\n",
    "    age = []\n",
    "    income = []\n",
    "    for row in data:\n",
    "        if row[0] == \"CustomerID\":\n",
    "            continue\n",
    "        age.append(int(row[2]))   \n",
    "        income.append(int(row[3]))\n",
    "       \n",
    "        \n",
    "age_arr = np.array(age)\n",
    "income_arr = np.array(income)"
   ]
  },
  {
   "cell_type": "code",
   "execution_count": 16,
   "metadata": {},
   "outputs": [
    {
     "name": "stdout",
     "output_type": "stream",
     "text": [
      "average age value: 48.96\n",
      "average value of income: 110731.822\n",
      "\n",
      "maximum age in the sample: 99\n",
      "maximum income in the sample: 189974\n",
      "\n",
      "minimum age in the sample: 0\n",
      "minimum income in the sample: 0\n",
      "\n",
      "average deviation for age: 28.423\n",
      "average deviation for income: 45728.1\n"
     ]
    }
   ],
   "source": [
    "print(f\"average age value: {round(np.mean(age_arr),3)}\")\n",
    "print(f\"average value of income: {round(np.mean(income_arr),3)}\")\n",
    "\n",
    "print(f\"\\nmaximum age in the sample: {np.max(age_arr)}\")\n",
    "print(f\"maximum income in the sample: {np.max(income_arr)}\")\n",
    "\n",
    "print(f\"\\nminimum age in the sample: {np.min(age_arr)}\")\n",
    "print(f\"minimum income in the sample: {np.min(income_arr)}\")\n",
    "\n",
    "print(f\"\\naverage deviation for age: {round(np.std(age_arr),3)}\")\n",
    "print(f\"average deviation for income: {round(np.std(income_arr),3)}\")"
   ]
  },
  {
   "cell_type": "markdown",
   "metadata": {},
   "source": [
    "*1. the age of the survey participants is from 0 to 99*\n",
    "\n",
    "*2. average devitation for age is 28.423 for income it is 45728.1*"
   ]
  }
 ],
 "metadata": {
  "kernelspec": {
   "display_name": "Python 3 (ipykernel)",
   "language": "python",
   "name": "python3"
  },
  "language_info": {
   "codemirror_mode": {
    "name": "ipython",
    "version": 3
   },
   "file_extension": ".py",
   "mimetype": "text/x-python",
   "name": "python",
   "nbconvert_exporter": "python",
   "pygments_lexer": "ipython3",
   "version": "3.9.13"
  }
 },
 "nbformat": 4,
 "nbformat_minor": 4
}
